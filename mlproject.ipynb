{
 "cells": [
  {
   "cell_type": "code",
   "execution_count": 1,
   "id": "639381d9",
   "metadata": {},
   "outputs": [],
   "source": [
    "\n",
    "import tkinter as tk\n",
    "from tkinter import *\n",
    "from tkinter import filedialog\n",
    "from tkinter.ttk import Combobox\n",
    "import pyttsx3\n",
    "import os\n",
    "from gtts import gTTS\n",
    "from playsound import playsound\n",
    "root = Tk()\n",
    "root.title(\"Text to speech converter\")\n",
    "root.geometry(\"1000x580\")\n",
    "root.resizable(False,False)\n",
    "root.configure(bg=\"#73C6B6\")\n",
    "\n",
    "\n",
    "tts = pyttsx3.init()\n",
    "# button property\n",
    "def speaknow():\n",
    "    text = text_box.get(1.0, END)\n",
    "    gender = gender_box.get()\n",
    "    speed = speed_box.get()\n",
    "    sound = sound_box.get()\n",
    "    voices = tts.getProperty('voices')\n",
    "    Volume = tts.getProperty('volume')\n",
    "    \n",
    "    def setvoice():\n",
    "        if(gender == 'Male'):\n",
    "            tts.setProperty('voice',voices[0].id)\n",
    "            tts.say(text)\n",
    "            tts.runAndWait()\n",
    "        else:\n",
    "            tts.setProperty('voice',voices[1].id)\n",
    "            tts.say(text)\n",
    "            tts.runAndWait()\n",
    "    \n",
    "    if(text):\n",
    "        if(speed == 'Fast'):\n",
    "            tts.setProperty('rate',250)\n",
    "        elif(speed == 'Medium'):\n",
    "            tts.setProperty('rate',150)\n",
    "        else:\n",
    "            tts.setProperty('rate',80)\n",
    "            \n",
    "    if(text):\n",
    "        if(sound == 'High'):\n",
    "            tts.setProperty('volume',1.0) \n",
    "        elif(sound == 'Medium'):\n",
    "            tts.setProperty('volume',0.5)\n",
    "        else:\n",
    "            tts.setProperty('volume',0.1)\n",
    "    setvoice()\n",
    "    \n",
    "     \n",
    "                       \n",
    "    \n",
    "text_box = Text(root,font=\"calibri 20\", bg=\"white\",relief=GROOVE, wrap=WORD,bd=0)\n",
    "text_box.place(x=30,y=150,width=940,height=180)\n",
    "gender_box = Combobox(root, values=['Male','Female'],font=\"Robote 12\",state='r',width=12)\n",
    "gender_box.place(x=340,y=400)\n",
    "gender_box.set('Male')\n",
    "\n",
    "speed_box = Combobox(root, values=['Fast','Medium','Slow'],font=\"Robote 12\",state='r',width=12)\n",
    "speed_box.place(x=540,y=400)\n",
    "speed_box.set('Medium')\n",
    "\n",
    "sound_box = Combobox(root, values=['High','Medium','low'],font=\"Robote 12\",state='r',width=12)\n",
    "sound_box.place(x=740,y=400)\n",
    "sound_box.set('Medium')\n",
    "\n",
    "Label(root,text='Select voice', font='TimesNewRoman 15 bold', bg='#A2D9CE', fg='White').place(x=340,y=370)\n",
    "Label(root,text='Select speed', font='TimesNewRoman 15 bold', bg='#A2D9CE', fg='White').place(x=540,y=370)\n",
    "Label(root,text='Select Volume', font='TimesNewRoman 15 bold', bg='#A2D9CE', fg='White').place(x=740,y=370)\n",
    "\n",
    "\n",
    "\n",
    "play_btn=Button(root,text=\"Play\",compound=LEFT,bg='white',width=20,font=\"arial 14 bold\",borderwidth='0.1c',command= speaknow)\n",
    "play_btn.place(x=380,y=450)\n",
    "root.mainloop()\n",
    "\n",
    "\n"
   ]
  },
  {
   "cell_type": "code",
   "execution_count": 2,
   "id": "6e48dc56",
   "metadata": {},
   "outputs": [
    {
     "name": "stdout",
     "output_type": "stream",
     "text": [
      "Requirement already satisfied: pyttsx3 in c:\\users\\rdp\\anaconda3\\lib\\site-packages (2.90)\n",
      "Requirement already satisfied: comtypes in c:\\users\\rdp\\anaconda3\\lib\\site-packages (from pyttsx3) (1.2.0)\n",
      "Requirement already satisfied: pypiwin32 in c:\\users\\rdp\\anaconda3\\lib\\site-packages (from pyttsx3) (223)\n",
      "Requirement already satisfied: pywin32 in c:\\users\\rdp\\anaconda3\\lib\\site-packages (from pyttsx3) (305.1)\n",
      "Note: you may need to restart the kernel to use updated packages.\n"
     ]
    }
   ],
   "source": [
    "pip install pyttsx3"
   ]
  },
  {
   "cell_type": "code",
   "execution_count": 3,
   "id": "d1f7b792",
   "metadata": {},
   "outputs": [
    {
     "name": "stdout",
     "output_type": "stream",
     "text": [
      "Requirement already satisfied: gtts in c:\\users\\rdp\\anaconda3\\lib\\site-packages (2.4.0)\n",
      "Requirement already satisfied: requests<3,>=2.27 in c:\\users\\rdp\\anaconda3\\lib\\site-packages (from gtts) (2.31.0)\n",
      "Requirement already satisfied: click<8.2,>=7.1 in c:\\users\\rdp\\anaconda3\\lib\\site-packages (from gtts) (8.0.4)\n",
      "Requirement already satisfied: colorama in c:\\users\\rdp\\anaconda3\\lib\\site-packages (from click<8.2,>=7.1->gtts) (0.4.6)\n",
      "Requirement already satisfied: charset-normalizer<4,>=2 in c:\\users\\rdp\\anaconda3\\lib\\site-packages (from requests<3,>=2.27->gtts) (2.0.4)\n",
      "Requirement already satisfied: idna<4,>=2.5 in c:\\users\\rdp\\anaconda3\\lib\\site-packages (from requests<3,>=2.27->gtts) (3.4)\n",
      "Requirement already satisfied: urllib3<3,>=1.21.1 in c:\\users\\rdp\\anaconda3\\lib\\site-packages (from requests<3,>=2.27->gtts) (1.26.16)\n",
      "Requirement already satisfied: certifi>=2017.4.17 in c:\\users\\rdp\\anaconda3\\lib\\site-packages (from requests<3,>=2.27->gtts) (2023.7.22)\n",
      "Note: you may need to restart the kernel to use updated packages.\n"
     ]
    }
   ],
   "source": [
    "pip install gtts"
   ]
  },
  {
   "cell_type": "code",
   "execution_count": 4,
   "id": "0de9a2c6",
   "metadata": {},
   "outputs": [
    {
     "name": "stdout",
     "output_type": "stream",
     "text": [
      "Requirement already satisfied: playsound in c:\\users\\rdp\\anaconda3\\lib\\site-packages (1.3.0)\n",
      "Note: you may need to restart the kernel to use updated packages.\n"
     ]
    }
   ],
   "source": [
    "pip install playsound"
   ]
  }
 ],
 "metadata": {
  "kernelspec": {
   "display_name": "Python 3 (ipykernel)",
   "language": "python",
   "name": "python3"
  },
  "language_info": {
   "codemirror_mode": {
    "name": "ipython",
    "version": 3
   },
   "file_extension": ".py",
   "mimetype": "text/x-python",
   "name": "python",
   "nbconvert_exporter": "python",
   "pygments_lexer": "ipython3",
   "version": "3.11.5"
  }
 },
 "nbformat": 4,
 "nbformat_minor": 5
}
